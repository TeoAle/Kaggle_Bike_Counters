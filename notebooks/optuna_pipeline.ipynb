{
 "cells": [
  {
   "cell_type": "code",
   "execution_count": null,
   "metadata": {},
   "outputs": [],
   "source": [
    "import optuna\n",
    "\n",
    "from sklearn.metrics import mean_squared_error\n",
    "import numpy as np\n",
    "import pandas as pd\n",
    "from sklearn.linear_model import LinearRegression, Ridge, Lasso\n",
    "from sklearn.ensemble import RandomForestRegressor, GradientBoostingRegressor\n",
    "from lightgbm import LGBMRegressor\n",
    "from xgboost import XGBRegressor\n",
    "from sklearn.model_selection import TimeSeriesSplit"
   ]
  },
  {
   "cell_type": "code",
   "execution_count": null,
   "metadata": {},
   "outputs": [],
   "source": [
    "X = pd.read_csv('X_train.csv')\n",
    "y = pd.read_csv('Y_train.csv')"
   ]
  },
  {
   "cell_type": "code",
   "execution_count": null,
   "metadata": {},
   "outputs": [],
   "source": [
    "# X: data features (n_samples, n_features)\n",
    "# y: data targets (n_samples,)\n",
    "\n",
    "tscv = TimeSeriesSplit(n_splits=5)\n",
    "for train_index, test_index in tscv.split(X):\n",
    "    print(\"TRAIN:\", train_index, \"TEST:\", test_index)\n",
    "    X_train, X_valid = X.iloc[train_index], X.iloc[test_index]\n",
    "    y_train, y_valid = y.iloc[train_index], y.iloc[test_index]"
   ]
  },
  {
   "cell_type": "code",
   "execution_count": null,
   "metadata": {},
   "outputs": [],
   "source": [
    "MODEL_NAME2MODEL = {\n",
    "    \"LinearRegression\" : LinearRegression,\n",
    "    \"Ridge\" : Ridge,\n",
    "    \"Lasso\" : Lasso,\n",
    "    \"RandomForest\" : RandomForestRegressor,\n",
    "    \"GradientBoosting\" : GradientBoostingRegressor,\n",
    "    \"LGBM\" : LGBMRegressor,\n",
    "    \"XGB\" : XGBRegressor,\n",
    "}"
   ]
  },
  {
   "cell_type": "code",
   "execution_count": null,
   "metadata": {},
   "outputs": [],
   "source": [
    "def objective(trial):\n",
    "    model_name = trial.suggest_categorical(\"Model\", list(MODEL_NAME2MODEL.keys()))\n",
    "    if model_name == \"LinearRegression\":\n",
    "        params = {\n",
    "            \"fit_intercept\": True\n",
    "            }\n",
    "    elif model_name == \"Ridge\":\n",
    "        params = {\n",
    "            \"alpha\": trial.suggest_float(\"alpha\", 0.1, 1.0)\n",
    "            }    \n",
    "    elif model_name == \"Lasso\":\n",
    "        params = {\n",
    "            \"alpha\": trial.suggest_float(\"alpha\", 0.1, 1.0)\n",
    "            }\n",
    "    elif model_name == \"RandomForest\":\n",
    "        params = {\n",
    "            \"n_estimators\": trial.suggest_int(\"n_estimators\", 50,1000),\n",
    "            \"max_depth\": trial.suggest_int(\"max_depth\", 5, 10),\n",
    "            \"min_samples_split\": trial.suggest_int(\"min_samples_split\", 2, 10),\n",
    "            \"min_samples_leaf\": trial.suggest_int(\"min_samples_leaf\", 1, 4)\n",
    "            }\n",
    "    elif model_name == \"GradientBoosting\":\n",
    "        params = {\n",
    "            \"n_estimators\": trial.suggest_int(\"n_estimators\", 200,2000),\n",
    "            \"learning_rate\": trial.suggest_float(\"learning_rate\", 0.05, 0.5),\n",
    "            \"max_depth\": trial.suggest_int(\"max_depth\", 3, 10),\n",
    "            \"min_samples_split\": trial.suggest_int(\"min_samples_split\", 2, 10),\n",
    "            \"min_samples_leaf\": trial.suggest_int(\"min_samples_leaf\", 1, 4)\n",
    "            }\n",
    "    elif model_name == \"LGBM\":\n",
    "        params = {\n",
    "            \"n_estimators\": trial.suggest_int(\"n_estimators\", 200,2000),\n",
    "            \"learning_rate\": trial.suggest_float(\"learning_rate\", 0.05, 0.5),\n",
    "            \"max_depth\": trial.suggest_int(\"max_depth\", 3, 10),\n",
    "            \"num_leaves\": trial.suggest_int(\"num_leaves\", 31, 100),\n",
    "            \"min_child_samples\": trial.suggest_int(\"min_child_samples\", 20, 100)\n",
    "        }\n",
    "    elif model_name == \"XGB\":\n",
    "        params = {\n",
    "            \"n_estimators\": trial.suggest_int(\"n_estimators\", 200,2000),\n",
    "            \"learning_rate\": trial.suggest_float(\"learning_rate\", 0.05, 0.5),\n",
    "            \"max_depth\": trial.suggest_int(\"max_depth\", 3, 10),\n",
    "       }\n",
    "\n",
    "    model = MODEL_NAME2MODEL[model_name](**params)\n",
    "    model.fit(X_train, y_train)\n",
    "    prediction = model.predict(X_valid)\n",
    "    return np.sqrt(mean_squared_error(y_valid, prediction))\n"
   ]
  },
  {
   "cell_type": "code",
   "execution_count": null,
   "metadata": {},
   "outputs": [],
   "source": [
    "study = optuna.create_study(direction='minimize')\n",
    "study.optimize(objective, n_trials=100)"
   ]
  },
  {
   "cell_type": "code",
   "execution_count": null,
   "metadata": {},
   "outputs": [],
   "source": [
    "best_params = study.best_params\n",
    "best_model_name = best_params[\"Model\"]\n",
    "best_params.pop(\"Model\", None)"
   ]
  },
  {
   "cell_type": "markdown",
   "metadata": {},
   "source": [
    "Use the precedent data to put the params in the model in the `submission_working.py` file"
   ]
  }
 ],
 "metadata": {
  "kernelspec": {
   "display_name": "venvKaggle",
   "language": "python",
   "name": "python3"
  },
  "language_info": {
   "codemirror_mode": {
    "name": "ipython",
    "version": 3
   },
   "file_extension": ".py",
   "mimetype": "text/x-python",
   "name": "python",
   "nbconvert_exporter": "python",
   "pygments_lexer": "ipython3",
   "version": "3.11.7"
  }
 },
 "nbformat": 4,
 "nbformat_minor": 2
}
